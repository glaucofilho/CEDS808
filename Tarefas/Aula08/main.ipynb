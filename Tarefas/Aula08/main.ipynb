{
 "cells": [
  {
   "cell_type": "markdown",
   "metadata": {},
   "source": [
    "# <a id=\"inicio\"></a> Exercícios Aprendizado Nao Supervisionado - parte 2\n",
    "\n",
    "-----\n",
    "\n",
    "### **Autor:** Glauco Lauria Marques Filho\n",
    "\n",
    "-----"
   ]
  },
  {
   "cell_type": "markdown",
   "metadata": {},
   "source": [
    "# <a id=\"resumo\"></a> Resumo "
   ]
  },
  {
   "cell_type": "markdown",
   "metadata": {},
   "source": [
    "#### Este arquivo contém a resolução dos exercícios da Aula 8 do curso CEDS-808: Aprendizado de Máquina. "
   ]
  },
  {
   "cell_type": "markdown",
   "metadata": {},
   "source": [
    "# <a id=\"sumario\"></a> Sumário"
   ]
  },
  {
   "cell_type": "markdown",
   "metadata": {},
   "source": [
    "\n",
    "* [Início](#inicio)\n",
    "* [Resumo](#resumo)\n",
    "* [Sumário](#sumario)\n",
    "* [Importação de Requisitos](#requisitos)\n",
    "\n",
    "- 1 [Dados e Informacoes de Entrada](#item_1)\n",
    "- 1.a [Apriori Manualmente](#item_1_a)\n",
    "- 1.b [FP-Growth Manualmente](#item_1_b)\n",
    "- 1.c [Confirmacao com Mixtend](#item_1_c)"
   ]
  },
  {
   "cell_type": "markdown",
   "metadata": {},
   "source": [
    "# <a id=\"requisitos\"></a> Importação de Requisitos"
   ]
  },
  {
   "cell_type": "code",
   "execution_count": 110,
   "metadata": {},
   "outputs": [],
   "source": [
    "import pandas as pd\n",
    "from mlxtend.preprocessing import TransactionEncoder\n",
    "from mlxtend.frequent_patterns import apriori, fpgrowth\n",
    "from itertools import combinations"
   ]
  },
  {
   "cell_type": "markdown",
   "metadata": {},
   "source": [
    "# <a id=\"item_1\"></a> 1. Dados e Informacoes de Entrada"
   ]
  },
  {
   "cell_type": "code",
   "execution_count": 81,
   "metadata": {},
   "outputs": [],
   "source": [
    "transacoes = [\n",
    "    ['biscoito', 'cerveja', 'pão', 'salaminho'],\n",
    "    ['cerveja', 'couve', 'linguiça', 'pão', 'queijo'],\n",
    "    ['café', 'brócolis', 'couve', 'pão'],\n",
    "    ['brócolis', 'café', 'cerveja', 'couve', 'pão', 'salaminho'],\n",
    "    ['brócolis', 'café', 'couve', 'pão', 'refrigerante'],\n",
    "    ['couve', 'linguiça']\n",
    "]\n",
    "suporte = 2\n",
    "confianca = 0.6"
   ]
  },
  {
   "cell_type": "markdown",
   "metadata": {},
   "source": [
    "# <a id=\"item_1_a\"></a> 1.a. Apriori Manualmente"
   ]
  },
  {
   "cell_type": "markdown",
   "metadata": {},
   "source": [
    "### Resultados obtidos (Calculos abaixo)"
   ]
  },
  {
   "cell_type": "code",
   "execution_count": 82,
   "metadata": {},
   "outputs": [],
   "source": [
    "nivel_1 = {\n",
    "'cerveja': 3,\n",
    " 'pão': 5,\n",
    " 'salaminho': 2,\n",
    " 'couve': 5,\n",
    " 'linguiça': 2,\n",
    " 'café': 3,\n",
    " 'brócolis': 3\n",
    "}\n",
    "\n",
    "nivel_2 = {\n",
    " ('cerveja', 'pão'): 3,\n",
    " ('cerveja', 'salaminho'): 2,\n",
    " ('cerveja', 'couve'): 2,\n",
    " ('pão', 'salaminho'): 2,\n",
    " ('pão', 'couve'): 4,\n",
    " ('pão', 'café'): 3,\n",
    " ('pão', 'brócolis'): 3,\n",
    " ('couve', 'linguiça'): 2,\n",
    " ('couve', 'café'): 3,\n",
    " ('couve', 'brócolis'): 3,\n",
    " ('café', 'brócolis'): 3\n",
    "}\n",
    "\n",
    "associacao_nivel_2 = {\n",
    " 'cerveja - > pão': 1.0,\n",
    " 'cerveja - > salaminho': 0.6666666666666666,\n",
    " 'salaminho - > cerveja': 1.0,\n",
    " 'cerveja - > couve': 0.6666666666666666,\n",
    " 'salaminho - > pão': 1.0,\n",
    " 'pão - > couve': 0.8,\n",
    " 'couve - > pão': 0.8,\n",
    " 'café - > pão': 1.0,\n",
    " 'brócolis - > pão': 1.0,\n",
    " 'linguiça - > couve': 1.0,\n",
    " 'café - > couve': 1.0,\n",
    " 'brócolis - > couve': 1.0,\n",
    " 'café - > brócolis': 1.0,\n",
    " 'brócolis - > café': 1.0\n",
    "}\n",
    "\n",
    "nivel_3 = {\n",
    " ('cerveja', 'pão', 'salaminho'): 2,\n",
    " ('cerveja', 'pão', 'couve'): 2,\n",
    " ('pão', 'couve', 'café'): 3,\n",
    " ('pão', 'couve', 'brócolis'): 3,\n",
    " ('pão', 'café', 'brócolis'): 3,\n",
    " ('couve', 'café', 'brócolis'): 3\n",
    "}\n",
    "\n",
    "associacao_nivel_3 = {\n",
    " 'pão e salaminho - > cerveja': 1.0,\n",
    " 'salaminho e cerveja - > pão': 1.0,\n",
    " 'cerveja e pão - > salaminho': 0.6666666666666666,\n",
    " 'couve e cerveja - > pão': 1.0,\n",
    " 'cerveja e pão - > couve': 0.6666666666666666,\n",
    " 'couve e café - > pão': 1.0,\n",
    " 'café e pão - > couve': 1.0,\n",
    " 'pão e couve - > café': 0.75,\n",
    " 'couve e brócolis - > pão': 1.0,\n",
    " 'brócolis e pão - > couve': 1.0,\n",
    " 'pão e couve - > brócolis': 0.75,\n",
    " 'café e brócolis - > pão': 1.0,\n",
    " 'brócolis e pão - > café': 1.0,\n",
    " 'pão e café - > brócolis': 1.0,\n",
    " 'café e brócolis - > couve': 1.0,\n",
    " 'brócolis e couve - > café': 1.0,\n",
    " 'couve e café - > brócolis': 1.0\n",
    "}\n",
    "\n",
    "nivel_4 = {\n",
    " ('pão', 'couve', 'café', 'brócolis'): 3\n",
    "}\n",
    "\n",
    "associacao_nivel_4 = {\n",
    " 'couve e café e brócolis - > pão': 1.0,\n",
    " 'pão e café e brócolis - > couve': 1.0,\n",
    " 'pão e couve e brócolis - > café': 1.0,\n",
    " 'pão e couve e café - > brócolis': 1.0\n",
    "}\n"
   ]
  },
  {
   "cell_type": "markdown",
   "metadata": {},
   "source": [
    "---\n"
   ]
  },
  {
   "cell_type": "markdown",
   "metadata": {},
   "source": [
    "### Calculos manuais"
   ]
  },
  {
   "cell_type": "code",
   "execution_count": 83,
   "metadata": {},
   "outputs": [],
   "source": [
    "freq_itens = {}\n",
    "\n",
    "for transacao in transacoes:\n",
    "    for item in transacao:\n",
    "        if item in freq_itens:\n",
    "            freq_itens[item] = freq_itens[item] + 1\n",
    "        else:\n",
    "            freq_itens[item] = 1"
   ]
  },
  {
   "cell_type": "code",
   "execution_count": 84,
   "metadata": {},
   "outputs": [
    {
     "data": {
      "text/plain": [
       "{'biscoito': 1,\n",
       " 'cerveja': 3,\n",
       " 'pão': 5,\n",
       " 'salaminho': 2,\n",
       " 'couve': 5,\n",
       " 'linguiça': 2,\n",
       " 'queijo': 1,\n",
       " 'café': 3,\n",
       " 'brócolis': 3,\n",
       " 'refrigerante': 1}"
      ]
     },
     "execution_count": 84,
     "metadata": {},
     "output_type": "execute_result"
    }
   ],
   "source": [
    "freq_itens"
   ]
  },
  {
   "cell_type": "code",
   "execution_count": 85,
   "metadata": {},
   "outputs": [],
   "source": [
    "freq_itens_nivel_1 = freq_itens.copy()\n",
    "for key, value in freq_itens.items():\n",
    "    if value < suporte:\n",
    "        del freq_itens_nivel_1[key]"
   ]
  },
  {
   "cell_type": "code",
   "execution_count": 86,
   "metadata": {},
   "outputs": [
    {
     "data": {
      "text/plain": [
       "{'cerveja': 3,\n",
       " 'pão': 5,\n",
       " 'salaminho': 2,\n",
       " 'couve': 5,\n",
       " 'linguiça': 2,\n",
       " 'café': 3,\n",
       " 'brócolis': 3}"
      ]
     },
     "execution_count": 86,
     "metadata": {},
     "output_type": "execute_result"
    }
   ],
   "source": [
    "freq_itens_nivel_1"
   ]
  },
  {
   "cell_type": "code",
   "execution_count": 87,
   "metadata": {},
   "outputs": [
    {
     "data": {
      "text/plain": [
       "[('cerveja', 'pão'),\n",
       " ('cerveja', 'salaminho'),\n",
       " ('cerveja', 'couve'),\n",
       " ('cerveja', 'linguiça'),\n",
       " ('cerveja', 'café'),\n",
       " ('cerveja', 'brócolis'),\n",
       " ('pão', 'salaminho'),\n",
       " ('pão', 'couve'),\n",
       " ('pão', 'linguiça'),\n",
       " ('pão', 'café'),\n",
       " ('pão', 'brócolis'),\n",
       " ('salaminho', 'couve'),\n",
       " ('salaminho', 'linguiça'),\n",
       " ('salaminho', 'café'),\n",
       " ('salaminho', 'brócolis'),\n",
       " ('couve', 'linguiça'),\n",
       " ('couve', 'café'),\n",
       " ('couve', 'brócolis'),\n",
       " ('linguiça', 'café'),\n",
       " ('linguiça', 'brócolis'),\n",
       " ('café', 'brócolis')]"
      ]
     },
     "execution_count": 87,
     "metadata": {},
     "output_type": "execute_result"
    }
   ],
   "source": [
    "chaves_freq_itens_nivel_1 = list(freq_itens_nivel_1.keys())\n",
    "permutacoes = combinations(chaves_freq_itens_nivel_1, 2)\n",
    "chaves_freq_itens_nivel_2 = list(permutacoes)\n",
    "chaves_freq_itens_nivel_2"
   ]
  },
  {
   "cell_type": "code",
   "execution_count": 88,
   "metadata": {},
   "outputs": [
    {
     "data": {
      "text/plain": [
       "{('cerveja', 'pão'): 3,\n",
       " ('cerveja', 'salaminho'): 2,\n",
       " ('cerveja', 'couve'): 2,\n",
       " ('cerveja', 'linguiça'): 1,\n",
       " ('cerveja', 'café'): 1,\n",
       " ('cerveja', 'brócolis'): 1,\n",
       " ('pão', 'salaminho'): 2,\n",
       " ('pão', 'couve'): 4,\n",
       " ('pão', 'linguiça'): 1,\n",
       " ('pão', 'café'): 3,\n",
       " ('pão', 'brócolis'): 3,\n",
       " ('salaminho', 'couve'): 1,\n",
       " ('salaminho', 'café'): 1,\n",
       " ('salaminho', 'brócolis'): 1,\n",
       " ('couve', 'linguiça'): 2,\n",
       " ('couve', 'café'): 3,\n",
       " ('couve', 'brócolis'): 3,\n",
       " ('café', 'brócolis'): 3}"
      ]
     },
     "execution_count": 88,
     "metadata": {},
     "output_type": "execute_result"
    }
   ],
   "source": [
    "candidatos_freq_itens_nivel_2 = {}\n",
    "for dupla in chaves_freq_itens_nivel_2:\n",
    "    for transacao in transacoes:\n",
    "        if dupla[0] in transacao and dupla[1] in transacao:\n",
    "            if dupla in candidatos_freq_itens_nivel_2:\n",
    "                candidatos_freq_itens_nivel_2[dupla] = candidatos_freq_itens_nivel_2[dupla] + 1\n",
    "            else:\n",
    "                candidatos_freq_itens_nivel_2[dupla] = 1\n",
    "candidatos_freq_itens_nivel_2"
   ]
  },
  {
   "cell_type": "code",
   "execution_count": 89,
   "metadata": {},
   "outputs": [
    {
     "data": {
      "text/plain": [
       "{('cerveja', 'pão'): 3,\n",
       " ('cerveja', 'salaminho'): 2,\n",
       " ('cerveja', 'couve'): 2,\n",
       " ('pão', 'salaminho'): 2,\n",
       " ('pão', 'couve'): 4,\n",
       " ('pão', 'café'): 3,\n",
       " ('pão', 'brócolis'): 3,\n",
       " ('couve', 'linguiça'): 2,\n",
       " ('couve', 'café'): 3,\n",
       " ('couve', 'brócolis'): 3,\n",
       " ('café', 'brócolis'): 3}"
      ]
     },
     "execution_count": 89,
     "metadata": {},
     "output_type": "execute_result"
    }
   ],
   "source": [
    "freq_itens_nivel_2 = candidatos_freq_itens_nivel_2.copy()\n",
    "for key, value in candidatos_freq_itens_nivel_2.items():\n",
    "    if value < suporte:\n",
    "        del freq_itens_nivel_2[key]\n",
    "freq_itens_nivel_2"
   ]
  },
  {
   "cell_type": "code",
   "execution_count": 90,
   "metadata": {},
   "outputs": [
    {
     "data": {
      "text/plain": [
       "[('cerveja', 'pão', 'salaminho'),\n",
       " ('cerveja', 'pão', 'couve'),\n",
       " ('cerveja', 'pão', 'linguiça'),\n",
       " ('cerveja', 'pão', 'café'),\n",
       " ('cerveja', 'pão', 'brócolis'),\n",
       " ('cerveja', 'salaminho', 'couve'),\n",
       " ('cerveja', 'salaminho', 'linguiça'),\n",
       " ('cerveja', 'salaminho', 'café'),\n",
       " ('cerveja', 'salaminho', 'brócolis'),\n",
       " ('cerveja', 'couve', 'linguiça'),\n",
       " ('cerveja', 'couve', 'café'),\n",
       " ('cerveja', 'couve', 'brócolis'),\n",
       " ('cerveja', 'linguiça', 'café'),\n",
       " ('cerveja', 'linguiça', 'brócolis'),\n",
       " ('cerveja', 'café', 'brócolis'),\n",
       " ('pão', 'salaminho', 'couve'),\n",
       " ('pão', 'salaminho', 'linguiça'),\n",
       " ('pão', 'salaminho', 'café'),\n",
       " ('pão', 'salaminho', 'brócolis'),\n",
       " ('pão', 'couve', 'linguiça'),\n",
       " ('pão', 'couve', 'café'),\n",
       " ('pão', 'couve', 'brócolis'),\n",
       " ('pão', 'linguiça', 'café'),\n",
       " ('pão', 'linguiça', 'brócolis'),\n",
       " ('pão', 'café', 'brócolis'),\n",
       " ('salaminho', 'couve', 'linguiça'),\n",
       " ('salaminho', 'couve', 'café'),\n",
       " ('salaminho', 'couve', 'brócolis'),\n",
       " ('salaminho', 'linguiça', 'café'),\n",
       " ('salaminho', 'linguiça', 'brócolis'),\n",
       " ('salaminho', 'café', 'brócolis'),\n",
       " ('couve', 'linguiça', 'café'),\n",
       " ('couve', 'linguiça', 'brócolis'),\n",
       " ('couve', 'café', 'brócolis'),\n",
       " ('linguiça', 'café', 'brócolis')]"
      ]
     },
     "execution_count": 90,
     "metadata": {},
     "output_type": "execute_result"
    }
   ],
   "source": [
    "chaves_freq_itens_nivel_3 = list(freq_itens_nivel_1.keys())\n",
    "permutacoes = combinations(chaves_freq_itens_nivel_3, 3)\n",
    "chaves_freq_itens_nivel_3 = list(permutacoes)\n",
    "chaves_freq_itens_nivel_3"
   ]
  },
  {
   "cell_type": "code",
   "execution_count": 91,
   "metadata": {},
   "outputs": [
    {
     "data": {
      "text/plain": [
       "{('cerveja', 'pão', 'salaminho'): 2,\n",
       " ('cerveja', 'pão', 'couve'): 2,\n",
       " ('cerveja', 'pão', 'linguiça'): 1,\n",
       " ('cerveja', 'pão', 'café'): 1,\n",
       " ('cerveja', 'pão', 'brócolis'): 1,\n",
       " ('cerveja', 'salaminho', 'couve'): 1,\n",
       " ('cerveja', 'salaminho', 'café'): 1,\n",
       " ('cerveja', 'salaminho', 'brócolis'): 1,\n",
       " ('cerveja', 'couve', 'linguiça'): 1,\n",
       " ('cerveja', 'couve', 'café'): 1,\n",
       " ('cerveja', 'couve', 'brócolis'): 1,\n",
       " ('cerveja', 'café', 'brócolis'): 1,\n",
       " ('pão', 'salaminho', 'couve'): 1,\n",
       " ('pão', 'salaminho', 'café'): 1,\n",
       " ('pão', 'salaminho', 'brócolis'): 1,\n",
       " ('pão', 'couve', 'linguiça'): 1,\n",
       " ('pão', 'couve', 'café'): 3,\n",
       " ('pão', 'couve', 'brócolis'): 3,\n",
       " ('pão', 'café', 'brócolis'): 3,\n",
       " ('salaminho', 'couve', 'café'): 1,\n",
       " ('salaminho', 'couve', 'brócolis'): 1,\n",
       " ('salaminho', 'café', 'brócolis'): 1,\n",
       " ('couve', 'café', 'brócolis'): 3}"
      ]
     },
     "execution_count": 91,
     "metadata": {},
     "output_type": "execute_result"
    }
   ],
   "source": [
    "candidatos_freq_itens_nivel_3 = {}\n",
    "for trio in chaves_freq_itens_nivel_3:\n",
    "    for transacao in transacoes:\n",
    "        if trio[0] in transacao and trio[1] in transacao and trio[2] in transacao:\n",
    "            if trio in candidatos_freq_itens_nivel_3:\n",
    "                candidatos_freq_itens_nivel_3[trio] = candidatos_freq_itens_nivel_3[trio] + 1\n",
    "            else:\n",
    "                candidatos_freq_itens_nivel_3[trio] = 1\n",
    "candidatos_freq_itens_nivel_3"
   ]
  },
  {
   "cell_type": "code",
   "execution_count": 92,
   "metadata": {},
   "outputs": [
    {
     "data": {
      "text/plain": [
       "{('cerveja', 'pão', 'salaminho'): 2,\n",
       " ('cerveja', 'pão', 'couve'): 2,\n",
       " ('pão', 'couve', 'café'): 3,\n",
       " ('pão', 'couve', 'brócolis'): 3,\n",
       " ('pão', 'café', 'brócolis'): 3,\n",
       " ('couve', 'café', 'brócolis'): 3}"
      ]
     },
     "execution_count": 92,
     "metadata": {},
     "output_type": "execute_result"
    }
   ],
   "source": [
    "freq_itens_nivel_3 = candidatos_freq_itens_nivel_3.copy()\n",
    "for key, value in candidatos_freq_itens_nivel_3.items():\n",
    "    if value < suporte:\n",
    "        del freq_itens_nivel_3[key]\n",
    "freq_itens_nivel_3"
   ]
  },
  {
   "cell_type": "code",
   "execution_count": 93,
   "metadata": {},
   "outputs": [
    {
     "data": {
      "text/plain": [
       "[('cerveja', 'pão', 'salaminho', 'couve'),\n",
       " ('cerveja', 'pão', 'salaminho', 'linguiça'),\n",
       " ('cerveja', 'pão', 'salaminho', 'café'),\n",
       " ('cerveja', 'pão', 'salaminho', 'brócolis'),\n",
       " ('cerveja', 'pão', 'couve', 'linguiça'),\n",
       " ('cerveja', 'pão', 'couve', 'café'),\n",
       " ('cerveja', 'pão', 'couve', 'brócolis'),\n",
       " ('cerveja', 'pão', 'linguiça', 'café'),\n",
       " ('cerveja', 'pão', 'linguiça', 'brócolis'),\n",
       " ('cerveja', 'pão', 'café', 'brócolis'),\n",
       " ('cerveja', 'salaminho', 'couve', 'linguiça'),\n",
       " ('cerveja', 'salaminho', 'couve', 'café'),\n",
       " ('cerveja', 'salaminho', 'couve', 'brócolis'),\n",
       " ('cerveja', 'salaminho', 'linguiça', 'café'),\n",
       " ('cerveja', 'salaminho', 'linguiça', 'brócolis'),\n",
       " ('cerveja', 'salaminho', 'café', 'brócolis'),\n",
       " ('cerveja', 'couve', 'linguiça', 'café'),\n",
       " ('cerveja', 'couve', 'linguiça', 'brócolis'),\n",
       " ('cerveja', 'couve', 'café', 'brócolis'),\n",
       " ('cerveja', 'linguiça', 'café', 'brócolis'),\n",
       " ('pão', 'salaminho', 'couve', 'linguiça'),\n",
       " ('pão', 'salaminho', 'couve', 'café'),\n",
       " ('pão', 'salaminho', 'couve', 'brócolis'),\n",
       " ('pão', 'salaminho', 'linguiça', 'café'),\n",
       " ('pão', 'salaminho', 'linguiça', 'brócolis'),\n",
       " ('pão', 'salaminho', 'café', 'brócolis'),\n",
       " ('pão', 'couve', 'linguiça', 'café'),\n",
       " ('pão', 'couve', 'linguiça', 'brócolis'),\n",
       " ('pão', 'couve', 'café', 'brócolis'),\n",
       " ('pão', 'linguiça', 'café', 'brócolis'),\n",
       " ('salaminho', 'couve', 'linguiça', 'café'),\n",
       " ('salaminho', 'couve', 'linguiça', 'brócolis'),\n",
       " ('salaminho', 'couve', 'café', 'brócolis'),\n",
       " ('salaminho', 'linguiça', 'café', 'brócolis'),\n",
       " ('couve', 'linguiça', 'café', 'brócolis')]"
      ]
     },
     "execution_count": 93,
     "metadata": {},
     "output_type": "execute_result"
    }
   ],
   "source": [
    "chaves_freq_itens_nivel_4 = list(freq_itens_nivel_1.keys())\n",
    "permutacoes = combinations(chaves_freq_itens_nivel_4, 4)\n",
    "chaves_freq_itens_nivel_4 = list(permutacoes)\n",
    "chaves_freq_itens_nivel_4"
   ]
  },
  {
   "cell_type": "code",
   "execution_count": 94,
   "metadata": {},
   "outputs": [
    {
     "data": {
      "text/plain": [
       "{('cerveja', 'pão', 'salaminho', 'couve'): 1,\n",
       " ('cerveja', 'pão', 'salaminho', 'café'): 1,\n",
       " ('cerveja', 'pão', 'salaminho', 'brócolis'): 1,\n",
       " ('cerveja', 'pão', 'couve', 'linguiça'): 1,\n",
       " ('cerveja', 'pão', 'couve', 'café'): 1,\n",
       " ('cerveja', 'pão', 'couve', 'brócolis'): 1,\n",
       " ('cerveja', 'pão', 'café', 'brócolis'): 1,\n",
       " ('cerveja', 'salaminho', 'couve', 'café'): 1,\n",
       " ('cerveja', 'salaminho', 'couve', 'brócolis'): 1,\n",
       " ('cerveja', 'salaminho', 'café', 'brócolis'): 1,\n",
       " ('cerveja', 'couve', 'café', 'brócolis'): 1,\n",
       " ('pão', 'salaminho', 'couve', 'café'): 1,\n",
       " ('pão', 'salaminho', 'couve', 'brócolis'): 1,\n",
       " ('pão', 'salaminho', 'café', 'brócolis'): 1,\n",
       " ('pão', 'couve', 'café', 'brócolis'): 3,\n",
       " ('salaminho', 'couve', 'café', 'brócolis'): 1}"
      ]
     },
     "execution_count": 94,
     "metadata": {},
     "output_type": "execute_result"
    }
   ],
   "source": [
    "candidatos_freq_itens_nivel_4 = {}\n",
    "for quadra in chaves_freq_itens_nivel_4:\n",
    "    for transacao in transacoes:\n",
    "        if quadra[0] in transacao and quadra[1] in transacao and quadra[2] in transacao and quadra[3] in transacao:\n",
    "            if quadra in candidatos_freq_itens_nivel_4:\n",
    "                candidatos_freq_itens_nivel_4[quadra] = candidatos_freq_itens_nivel_4[quadra] + 1\n",
    "            else:\n",
    "                candidatos_freq_itens_nivel_4[quadra] = 1\n",
    "candidatos_freq_itens_nivel_4"
   ]
  },
  {
   "cell_type": "code",
   "execution_count": 95,
   "metadata": {},
   "outputs": [
    {
     "data": {
      "text/plain": [
       "{('pão', 'couve', 'café', 'brócolis'): 3}"
      ]
     },
     "execution_count": 95,
     "metadata": {},
     "output_type": "execute_result"
    }
   ],
   "source": [
    "freq_itens_nivel_4 = candidatos_freq_itens_nivel_4.copy()\n",
    "for key, value in candidatos_freq_itens_nivel_4.items():\n",
    "    if value < suporte:\n",
    "        del freq_itens_nivel_4[key]\n",
    "freq_itens_nivel_4"
   ]
  },
  {
   "cell_type": "code",
   "execution_count": 96,
   "metadata": {},
   "outputs": [
    {
     "data": {
      "text/plain": [
       "[('cerveja', 'pão', 'salaminho', 'couve', 'linguiça'),\n",
       " ('cerveja', 'pão', 'salaminho', 'couve', 'café'),\n",
       " ('cerveja', 'pão', 'salaminho', 'couve', 'brócolis'),\n",
       " ('cerveja', 'pão', 'salaminho', 'linguiça', 'café'),\n",
       " ('cerveja', 'pão', 'salaminho', 'linguiça', 'brócolis'),\n",
       " ('cerveja', 'pão', 'salaminho', 'café', 'brócolis'),\n",
       " ('cerveja', 'pão', 'couve', 'linguiça', 'café'),\n",
       " ('cerveja', 'pão', 'couve', 'linguiça', 'brócolis'),\n",
       " ('cerveja', 'pão', 'couve', 'café', 'brócolis'),\n",
       " ('cerveja', 'pão', 'linguiça', 'café', 'brócolis'),\n",
       " ('cerveja', 'salaminho', 'couve', 'linguiça', 'café'),\n",
       " ('cerveja', 'salaminho', 'couve', 'linguiça', 'brócolis'),\n",
       " ('cerveja', 'salaminho', 'couve', 'café', 'brócolis'),\n",
       " ('cerveja', 'salaminho', 'linguiça', 'café', 'brócolis'),\n",
       " ('cerveja', 'couve', 'linguiça', 'café', 'brócolis'),\n",
       " ('pão', 'salaminho', 'couve', 'linguiça', 'café'),\n",
       " ('pão', 'salaminho', 'couve', 'linguiça', 'brócolis'),\n",
       " ('pão', 'salaminho', 'couve', 'café', 'brócolis'),\n",
       " ('pão', 'salaminho', 'linguiça', 'café', 'brócolis'),\n",
       " ('pão', 'couve', 'linguiça', 'café', 'brócolis'),\n",
       " ('salaminho', 'couve', 'linguiça', 'café', 'brócolis')]"
      ]
     },
     "execution_count": 96,
     "metadata": {},
     "output_type": "execute_result"
    }
   ],
   "source": [
    "chaves_freq_itens_nivel_5 = list(freq_itens_nivel_1.keys())\n",
    "permutacoes = combinations(chaves_freq_itens_nivel_5, 5)\n",
    "chaves_freq_itens_nivel_5 = list(permutacoes)\n",
    "chaves_freq_itens_nivel_5"
   ]
  },
  {
   "cell_type": "code",
   "execution_count": 97,
   "metadata": {},
   "outputs": [
    {
     "data": {
      "text/plain": [
       "{('cerveja', 'pão', 'salaminho', 'couve', 'café'): 1,\n",
       " ('cerveja', 'pão', 'salaminho', 'couve', 'brócolis'): 1,\n",
       " ('cerveja', 'pão', 'salaminho', 'café', 'brócolis'): 1,\n",
       " ('cerveja', 'pão', 'couve', 'café', 'brócolis'): 1,\n",
       " ('cerveja', 'salaminho', 'couve', 'café', 'brócolis'): 1,\n",
       " ('pão', 'salaminho', 'couve', 'café', 'brócolis'): 1}"
      ]
     },
     "execution_count": 97,
     "metadata": {},
     "output_type": "execute_result"
    }
   ],
   "source": [
    "candidatos_freq_itens_nivel_5 = {}\n",
    "for quinta in chaves_freq_itens_nivel_5:\n",
    "    for transacao in transacoes:\n",
    "        if quinta[0] in transacao and quinta[1] in transacao and quinta[2] in transacao and quinta[3] in transacao and quinta[4] in transacao:\n",
    "            if quinta in candidatos_freq_itens_nivel_5:\n",
    "                candidatos_freq_itens_nivel_5[quinta] = candidatos_freq_itens_nivel_5[quinta] + 1\n",
    "            else:\n",
    "                candidatos_freq_itens_nivel_5[quinta] = 1\n",
    "candidatos_freq_itens_nivel_5"
   ]
  },
  {
   "cell_type": "code",
   "execution_count": 98,
   "metadata": {},
   "outputs": [
    {
     "data": {
      "text/plain": [
       "{}"
      ]
     },
     "execution_count": 98,
     "metadata": {},
     "output_type": "execute_result"
    }
   ],
   "source": [
    "freq_itens_nivel_5 = candidatos_freq_itens_nivel_5.copy()\n",
    "for key, value in candidatos_freq_itens_nivel_5.items():\n",
    "    if value < suporte:\n",
    "        del freq_itens_nivel_5[key]\n",
    "freq_itens_nivel_5"
   ]
  },
  {
   "cell_type": "code",
   "execution_count": 99,
   "metadata": {},
   "outputs": [
    {
     "data": {
      "text/plain": [
       "{'cerveja -> pão': 1.0,\n",
       " 'cerveja -> salaminho': 0.6666666666666666,\n",
       " 'salaminho -> cerveja': 1.0,\n",
       " 'cerveja -> couve': 0.6666666666666666,\n",
       " 'salaminho -> pão': 1.0,\n",
       " 'pão -> couve': 0.8,\n",
       " 'couve -> pão': 0.8,\n",
       " 'café -> pão': 1.0,\n",
       " 'brócolis -> pão': 1.0,\n",
       " 'linguiça -> couve': 1.0,\n",
       " 'café -> couve': 1.0,\n",
       " 'brócolis -> couve': 1.0,\n",
       " 'café -> brócolis': 1.0,\n",
       " 'brócolis -> café': 1.0}"
      ]
     },
     "execution_count": 99,
     "metadata": {},
     "output_type": "execute_result"
    }
   ],
   "source": [
    "suportes_itens_nivel_2 = {}\n",
    "for dupla, suporte in freq_itens_nivel_2.items():\n",
    "    item_1 = dupla[0]\n",
    "    item_2 = dupla[1]\n",
    "    numerador = suporte\n",
    "    denominador_item_1 =  freq_itens_nivel_1[item_1]\n",
    "    denominador_item_2 =  freq_itens_nivel_1[item_2]\n",
    "    suportes_itens_nivel_2[f\"{item_1} -> {item_2}\"] = numerador/denominador_item_1\n",
    "    suportes_itens_nivel_2[f\"{item_2} -> {item_1}\"] = numerador/denominador_item_2\n",
    "suportes_itens_nivel_2 = {chave: valor for chave, valor in suportes_itens_nivel_2.items() if valor > confianca}\n",
    "suportes_itens_nivel_2"
   ]
  },
  {
   "cell_type": "code",
   "execution_count": 100,
   "metadata": {},
   "outputs": [
    {
     "data": {
      "text/plain": [
       "{'pão e salaminho - > cerveja': 1.0,\n",
       " 'salaminho e cerveja - > pão': 1.0,\n",
       " 'cerveja e pão - > salaminho': 0.6666666666666666,\n",
       " 'couve e cerveja - > pão': 1.0,\n",
       " 'cerveja e pão - > couve': 0.6666666666666666,\n",
       " 'couve e café - > pão': 1.0,\n",
       " 'café e pão - > couve': 1.0,\n",
       " 'pão e couve - > café': 0.75,\n",
       " 'couve e brócolis - > pão': 1.0,\n",
       " 'brócolis e pão - > couve': 1.0,\n",
       " 'pão e couve - > brócolis': 0.75,\n",
       " 'café e brócolis - > pão': 1.0,\n",
       " 'brócolis e pão - > café': 1.0,\n",
       " 'pão e café - > brócolis': 1.0,\n",
       " 'café e brócolis - > couve': 1.0,\n",
       " 'brócolis e couve - > café': 1.0,\n",
       " 'couve e café - > brócolis': 1.0}"
      ]
     },
     "execution_count": 100,
     "metadata": {},
     "output_type": "execute_result"
    }
   ],
   "source": [
    "suportes_itens_nivel_3 = {}\n",
    "for trio, suporte in freq_itens_nivel_3.items():\n",
    "    item_1 = trio[0]\n",
    "    item_2 = trio[1]\n",
    "    item_3 = trio[2]\n",
    "    numerador = suporte\n",
    "    try:\n",
    "        denominador_item_1 =  freq_itens_nivel_2[(item_3,item_2)]\n",
    "    except:\n",
    "        denominador_item_1 =  freq_itens_nivel_2[(item_2,item_3)]\n",
    "    try:\n",
    "        denominador_item_2 =  freq_itens_nivel_2[(item_1,item_3)]\n",
    "    except:\n",
    "        denominador_item_2 =  freq_itens_nivel_2[(item_3,item_1)]\n",
    "    try:\n",
    "        denominador_item_3 =  freq_itens_nivel_2[(item_2,item_1)]\n",
    "    except:\n",
    "        denominador_item_3 =  freq_itens_nivel_2[(item_1,item_2)]\n",
    "    suportes_itens_nivel_3[f\"{item_2} e {item_3} - > {item_1}\"] = numerador/denominador_item_1\n",
    "    suportes_itens_nivel_3[f\"{item_3} e {item_1} - > {item_2}\"] = numerador/denominador_item_2\n",
    "    suportes_itens_nivel_3[f\"{item_1} e {item_2} - > {item_3}\"] = numerador/denominador_item_3\n",
    "    \n",
    "suportes_itens_nivel_3 = {chave: valor for chave, valor in suportes_itens_nivel_3.items() if valor > confianca}\n",
    "suportes_itens_nivel_3"
   ]
  },
  {
   "cell_type": "code",
   "execution_count": 101,
   "metadata": {},
   "outputs": [
    {
     "data": {
      "text/plain": [
       "{'couve e café e brócolis - > pão': 1.0,\n",
       " 'pão e café e brócolis - > couve': 1.0,\n",
       " 'pão e couve e brócolis - > café': 1.0,\n",
       " 'pão e couve e café - > brócolis': 1.0}"
      ]
     },
     "execution_count": 101,
     "metadata": {},
     "output_type": "execute_result"
    }
   ],
   "source": [
    "suportes_itens_nivel_4 = {}\n",
    "for quadra, suporte in freq_itens_nivel_4.items():\n",
    "    item_1 = quadra[0]\n",
    "    item_2 = quadra[1]\n",
    "    item_3 = quadra[2]\n",
    "    item_4 = quadra[3]\n",
    "    numerador = suporte\n",
    "    try:\n",
    "        denominador_item_1 =  freq_itens_nivel_3[(item_2,item_3,item_4)]\n",
    "    except:\n",
    "        try:\n",
    "            denominador_item_1 =  freq_itens_nivel_3[(item_2,item_4,item_3)]\n",
    "        except:\n",
    "            try:\n",
    "                denominador_item_1 =  freq_itens_nivel_3[(item_3,item_2,item_4)]\n",
    "            except:\n",
    "                try:\n",
    "                    denominador_item_1 =  freq_itens_nivel_3[(item_3,item_4,item_2)]\n",
    "                except:\n",
    "                    try:\n",
    "                        denominador_item_1 =  freq_itens_nivel_3[(item_4,item_2,item_3)]\n",
    "                    except:\n",
    "                        denominador_item_1 =  freq_itens_nivel_3[(item_4,item_3,item_2)]\n",
    "    try:\n",
    "        denominador_item_2 =  freq_itens_nivel_3[(item_1,item_3,item_4)]\n",
    "    except:\n",
    "        try:\n",
    "            denominador_item_2 =  freq_itens_nivel_3[(item_1,item_4,item_3)]\n",
    "        except:\n",
    "            try:\n",
    "                denominador_item_2 =  freq_itens_nivel_3[(item_3,item_1,item_4)]\n",
    "            except:\n",
    "                try:\n",
    "                    denominador_item_2 =  freq_itens_nivel_3[(item_3,item_4,item_1)]\n",
    "                except:\n",
    "                    try:\n",
    "                        denominador_item_2 =  freq_itens_nivel_3[(item_4,item_1,item_3)]\n",
    "                    except:\n",
    "                        denominador_item_2 =  freq_itens_nivel_3[(item_4,item_3,item_1)]\n",
    "\n",
    "    try:\n",
    "        denominador_item_3 =  freq_itens_nivel_3[(item_1,item_2,item_4)]\n",
    "    except:\n",
    "        try:\n",
    "            denominador_item_3 =  freq_itens_nivel_3[(item_1,item_4,item_2)]\n",
    "        except:\n",
    "            try:\n",
    "                denominador_item_3 =  freq_itens_nivel_3[(item_2,item_1,item_4)]\n",
    "            except:\n",
    "                try:\n",
    "                    denominador_item_3 =  freq_itens_nivel_3[(item_2,item_4,item_1)]\n",
    "                except:\n",
    "                    try:\n",
    "                        denominador_item_3 =  freq_itens_nivel_3[(item_4,item_1,item_2)]\n",
    "                    except:\n",
    "                        denominador_item_3 =  freq_itens_nivel_3[(item_4,item_2,item_1)]\n",
    "\n",
    "    try:\n",
    "        denominador_item_4 =  freq_itens_nivel_3[(item_1,item_2,item_3)]\n",
    "    except:\n",
    "        try:\n",
    "            denominador_item_4 =  freq_itens_nivel_3[(item_1,item_3,item_2)]\n",
    "        except:\n",
    "            try:\n",
    "                denominador_item_4 =  freq_itens_nivel_3[(item_2,item_1,item_3)]\n",
    "            except:\n",
    "                try:\n",
    "                    denominador_item_4 =  freq_itens_nivel_3[(item_2,item_3,item_1)]\n",
    "                except:\n",
    "                    try:\n",
    "                        denominador_item_4 =  freq_itens_nivel_3[(item_3,item_1,item_2)]\n",
    "                    except:\n",
    "                        denominador_item_4 =  freq_itens_nivel_3[(item_3,item_2,item_1)]\n",
    "                        \n",
    "\n",
    "    suportes_itens_nivel_4[f\"{item_2} e {item_3} e {item_4} - > {item_1}\"] = numerador/denominador_item_1\n",
    "    suportes_itens_nivel_4[f\"{item_1} e {item_3} e {item_4} - > {item_2}\"] = numerador/denominador_item_2\n",
    "    suportes_itens_nivel_4[f\"{item_1} e {item_2} e {item_4} - > {item_3}\"] = numerador/denominador_item_3\n",
    "    suportes_itens_nivel_4[f\"{item_1} e {item_2} e {item_3} - > {item_4}\"] = numerador/denominador_item_4\n",
    "    \n",
    "suportes_itens_nivel_4 = {chave: valor for chave, valor in suportes_itens_nivel_4.items() if valor > confianca}\n",
    "suportes_itens_nivel_4"
   ]
  },
  {
   "cell_type": "markdown",
   "metadata": {},
   "source": [
    "---"
   ]
  },
  {
   "cell_type": "markdown",
   "metadata": {},
   "source": [
    "# <a id=\"item_1_b\"></a> 1.b. FP-Growth Manualmente"
   ]
  },
  {
   "cell_type": "code",
   "execution_count": 103,
   "metadata": {},
   "outputs": [
    {
     "ename": "SyntaxError",
     "evalue": "illegal target for annotation (1284185919.py, line 30)",
     "output_type": "error",
     "traceback": [
      "\u001b[0;36m  Cell \u001b[0;32mIn[103], line 30\u001b[0;36m\u001b[0m\n\u001b[0;31m    \"couve leva linguiça\" : 0,\u001b[0m\n\u001b[0m    ^\u001b[0m\n\u001b[0;31mSyntaxError\u001b[0m\u001b[0;31m:\u001b[0m illegal target for annotation\n"
     ]
    }
   ],
   "source": [
    "transacoes = [\n",
    "    ['biscoito', 'cerveja', 'pão', 'salaminho'],\n",
    "    ['cerveja', 'couve', 'linguiça', 'pão', 'queijo'],\n",
    "    ['café', 'brócolis', 'couve', 'pão'],\n",
    "    ['brócolis', 'café', 'cerveja', 'couve', 'pão', 'salaminho'],\n",
    "    ['brócolis', 'café', 'couve', 'pão', 'refrigerante'],\n",
    "    ['couve', 'linguiça']\n",
    "]\n",
    "suporte = 2\n",
    "confianca = 0.0\n",
    "\n",
    "ordem_de_frequencias_ordenadas = {\n",
    "'pão': 5,\n",
    "'couve': 5,\n",
    "'cerveja': 3,\n",
    "'café': 3,\n",
    "'brócolis': 3,\n",
    "'salaminho': 2,\n",
    "'linguiça': 2,\n",
    "}\n",
    "\n",
    "novas_transacoes_ordenadas_e_retiradas_minimos = [\n",
    "    ['pão', 'cerveja', 'salaminho'],\n",
    "    ['pão', 'couve', 'cerveja', 'linguiça'],\n",
    "    ['pão', 'couve', 'café', 'brócolis'],\n",
    "    ['pão', 'couve', 'cerveja', 'café', 'brócolis', 'salaminho'],\n",
    "    ['pão', 'couve', 'café', 'brócolis'],\n",
    "    ['couve', 'linguiça']\n",
    "]\n",
    "\"couve -> linguiça\" : 0,\n",
    "base_condicional_de_padroes = {\n",
    "'linguiça': {(\"pão\",\"couve\",\"cerveja\"):1,(\"couve\"):1},\n",
    "'salaminho': {(\"pão\",\"cerveja\"):1,('pão','couve','cerveja','café','brócolis'):1},\n",
    "'brócolis': {('pão','couve','cerveja','café'):1,('pão','couve','café'):2},\n",
    "'café': {(\"pão\",\"couve\",\"cerveja\"):1, (\"pão\",\"couve\"):2},\n",
    "'cerveja': {(\"pão\"):1, (\"pão\",\"couve\"):2},\n",
    "'couve':{(\"pão\"):4},\n",
    "'pão' : {},\n",
    "}\n",
    "\n",
    "arvore_de_frequencia = {\n",
    "    'linguiça': {(\"couve\"):2},\n",
    "    'salaminho': {(\"pão\",\"cerveja\"):2},\n",
    "    'brócolis': {('pão','couve','café'):3},\n",
    "    'café': {(\"pão\",\"couve\"):3},\n",
    "    'cerveja': {(\"pão\"):3},\n",
    "    'couve':{(\"pão\"):4},\n",
    "    'pão' : {}, \n",
    "}\n",
    "\n",
    "frequencia_gerada = {\n",
    "    'linguiça': {(\"couve\", 'linguiça'):2},\n",
    "    'salaminho': {(\"pão\",\"salaminho\"):2,(\"cerveja\",\"salaminho\"):2},\n",
    "    'brócolis': {('pão','brócolis'):3,('couve','brócolis'):3,('café','brócolis'):3},\n",
    "    'café': {(\"pão\",\"café\"):3,(\"couve\",'café'):3},\n",
    "    'cerveja': {(\"pão\",'cerveja'):3},\n",
    "    'couve':{(\"pão\",'couve'):4},\n",
    "    'pão' : {},  \n",
    "}\n",
    "\n",
    "possiveis_regras_e_confiancas = {\n",
    "    \"couve -> linguiça\" : 2/5,\n",
    "    \"linguiça -> couve\" : 2/2,\n",
    "    \"pão -> salaminho\" : 2/5,\n",
    "    \"salaminho -> pão\" : 2/2,\n",
    "    \"cerveja -> salaminho\" : 2/3,\n",
    "    \"salaminho -> cerveja\" : 2/2,\n",
    "    \"pão -> brócolis\" : 3/5,\n",
    "    \"brócolis -> pão\" : 3/3,\n",
    "    \"couve -> brócolis\" : 3/5,\n",
    "    \"brócolis -> couve\" : 3/3,\n",
    "    \"café -> brócolis\" : 3/3,\n",
    "    \"brócolis -> café\" : 3/3,\n",
    "    \"pão -> café\" : 3/5,\n",
    "    \"café -> pão\" : 3/3,\n",
    "    \"couve -> café\" : 3/5,\n",
    "    \"café -> couve\" : 3/3,\n",
    "    \"pão -> cerveja\" : 3/5,\n",
    "    \"cerveja -> pão\" : 3/3,\n",
    "    \"pão -> couve\" : 4/5,\n",
    "    \"couve -> pão\" : 4/5,\n",
    "}\n",
    "\n"
   ]
  },
  {
   "cell_type": "code",
   "execution_count": 105,
   "metadata": {},
   "outputs": [
    {
     "data": {
      "text/plain": [
       "{'linguica -> couve': 1.0,\n",
       " 'salaminho -> pao': 1.0,\n",
       " 'cerveja -> salaminho': 0.6666666666666666,\n",
       " 'salaminho -> cerveja': 1.0,\n",
       " 'pao -> brocolis': 0.6,\n",
       " 'brocolis -> pao': 1.0,\n",
       " 'couve -> brocolis': 0.6,\n",
       " 'brocolis -> couve': 1.0,\n",
       " 'cafe -> brocolis': 1.0,\n",
       " 'brocolis -> cafe': 1.0,\n",
       " 'pao -> cafe': 0.6,\n",
       " 'cafe -> pao': 1.0,\n",
       " 'couve -> cafe': 0.6,\n",
       " 'cafe -> couve': 1.0,\n",
       " 'pao -> cerveja': 0.6,\n",
       " 'cerveja -> pao': 1.0,\n",
       " 'pao -> couve': 0.8,\n",
       " 'couve -> pao': 0.8}"
      ]
     },
     "execution_count": 105,
     "metadata": {},
     "output_type": "execute_result"
    }
   ],
   "source": [
    "regras_e_confiancas = {\n",
    " 'linguica -> couve': 1.0,\n",
    " 'salaminho -> pao': 1.0,\n",
    " 'cerveja -> salaminho': 0.6666666666666666,\n",
    " 'salaminho -> cerveja': 1.0,\n",
    " 'pao -> brocolis': 0.6,\n",
    " 'brocolis -> pao': 1.0,\n",
    " 'couve -> brocolis': 0.6,\n",
    " 'brocolis -> couve': 1.0,\n",
    " 'cafe -> brocolis': 1.0,\n",
    " 'brocolis -> cafe': 1.0,\n",
    " 'pao -> cafe': 0.6,\n",
    " 'cafe -> pao': 1.0,\n",
    " 'couve -> cafe': 0.6,\n",
    " 'cafe -> couve': 1.0,\n",
    " 'pao -> cerveja': 0.6,\n",
    " 'cerveja -> pao': 1.0,\n",
    " 'pao -> couve': 0.8,\n",
    " 'couve -> pao': 0.8}\n",
    "regras_e_confiancas\n"
   ]
  },
  {
   "attachments": {
    "image.png": {
     "image/png": "[encoded data removed]"
    }
   },
   "cell_type": "markdown",
   "metadata": {},
   "source": [
    "![image.png](attachment:image.png)"
   ]
  },
  {
   "cell_type": "markdown",
   "metadata": {},
   "source": [
    "---"
   ]
  },
  {
   "cell_type": "markdown",
   "metadata": {},
   "source": [
    "# <a id=\"item_1_c\"></a> 1.c. Confirmacao com Mixtend"
   ]
  },
  {
   "cell_type": "code",
   "execution_count": 108,
   "metadata": {},
   "outputs": [
    {
     "name": "stdout",
     "output_type": "stream",
     "text": [
      "     support                      itemsets\n",
      "0   0.500000                    (brócolis)\n",
      "1   0.500000                        (café)\n",
      "2   0.500000                     (cerveja)\n",
      "3   0.833333                       (couve)\n",
      "4   0.833333                         (pão)\n",
      "5   0.500000              (brócolis, café)\n",
      "6   0.500000             (brócolis, couve)\n",
      "7   0.500000               (brócolis, pão)\n",
      "8   0.500000                 (couve, café)\n",
      "9   0.500000                   (pão, café)\n",
      "10  0.500000                (pão, cerveja)\n",
      "11  0.666667                  (pão, couve)\n",
      "12  0.500000       (brócolis, couve, café)\n",
      "13  0.500000         (brócolis, pão, café)\n",
      "14  0.500000        (brócolis, pão, couve)\n",
      "15  0.500000            (pão, couve, café)\n",
      "16  0.500000  (brócolis, pão, couve, café)\n"
     ]
    }
   ],
   "source": [
    "encoder = TransactionEncoder()\n",
    "transacoes_encoded = encoder.fit(transacoes).transform(transacoes)\n",
    "df = pd.DataFrame(transacoes_encoded, columns=encoder.columns_)\n",
    "itemsets_frequentes = apriori(df, min_support=suporte/6, use_colnames=True)\n",
    "print(itemsets_frequentes)"
   ]
  },
  {
   "cell_type": "code",
   "execution_count": 111,
   "metadata": {},
   "outputs": [
    {
     "name": "stdout",
     "output_type": "stream",
     "text": [
      "     support                      itemsets\n",
      "0   0.833333                         (pão)\n",
      "1   0.500000                     (cerveja)\n",
      "2   0.833333                       (couve)\n",
      "3   0.500000                        (café)\n",
      "4   0.500000                    (brócolis)\n",
      "5   0.500000                (pão, cerveja)\n",
      "6   0.666667                  (pão, couve)\n",
      "7   0.500000                 (couve, café)\n",
      "8   0.500000                   (pão, café)\n",
      "9   0.500000            (pão, couve, café)\n",
      "10  0.500000              (brócolis, café)\n",
      "11  0.500000             (brócolis, couve)\n",
      "12  0.500000               (brócolis, pão)\n",
      "13  0.500000       (brócolis, couve, café)\n",
      "14  0.500000         (brócolis, pão, café)\n",
      "15  0.500000        (brócolis, pão, couve)\n",
      "16  0.500000  (brócolis, pão, couve, café)\n"
     ]
    }
   ],
   "source": [
    "encoder = TransactionEncoder()\n",
    "transacoes_encoded = encoder.fit(transacoes).transform(transacoes)\n",
    "df = pd.DataFrame(transacoes_encoded, columns=encoder.columns_)\n",
    "conjuntos_frequentes = fpgrowth(df, min_support=suporte/6, use_colnames=True)\n",
    "print(conjuntos_frequentes)"
   ]
  }
 ],
 "metadata": {
  "kernelspec": {
   "display_name": "venv",
   "language": "python",
   "name": "python3"
  },
  "language_info": {
   "codemirror_mode": {
    "name": "ipython",
    "version": 3
   },
   "file_extension": ".py",
   "mimetype": "text/x-python",
   "name": "python",
   "nbconvert_exporter": "python",
   "pygments_lexer": "ipython3",
   "version": "3.10.12"
  }
 },
 "nbformat": 4,
 "nbformat_minor": 2
}
